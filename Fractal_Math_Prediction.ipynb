{
 "cells": [
  {
   "cell_type": "code",
   "execution_count": 1,
   "metadata": {
    "collapsed": true,
    "deletable": true,
    "editable": true
   },
   "outputs": [],
   "source": [
    "import json\n",
    "import pandas as pd\n",
    "import numpy as np\n",
    "from sklearn.utils import column_or_1d\n",
    "from sklearn.metrics import accuracy_score\n",
    "from sklearn.pipeline import Pipeline\n"
   ]
  },
  {
   "cell_type": "code",
   "execution_count": 5,
   "metadata": {
    "collapsed": false,
    "deletable": true,
    "editable": true
   },
   "outputs": [],
   "source": [
    "\n",
    "def getData(trainfile, testfile, testfiley):\n",
    "\t#\n",
    "\tprint \"adasd\"\n",
    "\tinfile = open(trainfile, 'r')\n",
    "\tn = infile.readline()\n",
    "\t#index = range(int(n))\n",
    "\tcols=[\"Physics\", \"Chemistry\",\"Biology\",\"English\", \"PhysicalEducation\", \"Accountancy\", \"BusinessStudies\",\"Economics\",\"ComputerScience\"]\n",
    "\tycols=[\"Mathematics\"]\n",
    "\tx= pd.DataFrame(columns=cols)\n",
    "\ty= pd.DataFrame(columns=ycols)\n",
    "\n",
    "\ta = 0\n",
    "\t#with open('training-and-test/training.json', 'r') as f:\n",
    "\tfor line in infile:\n",
    "\t\t#print line\n",
    "\t\tjs=json.loads(line)\n",
    "\t\t#print js\n",
    "\t\tif \"Physics\" in js:\n",
    "\t\t\tx.loc[a,\"Physics\"] = js[\"Physics\"]\n",
    "\t\tif \"Chemistry\" in js:\n",
    "\t\t\tx.loc[a,\"Chemistry\"] = js[\"Chemistry\"]\n",
    "\t\tif \"Biology\" in js:\n",
    "\t\t\tx.loc[a,\"Biology\"] = js[\"Biology\"]\n",
    "\t\tx.loc[a,\"English\"] = js[\"English\"]\n",
    "\t\t\n",
    "\t\tif \"PhysicalEducation\" in js:\n",
    "\t\t\tx.loc[a,\"PhysicalEducation\"] = js[\"PhysicalEducation\"]\n",
    "\t\tif \"Accountancy\" in js:\n",
    "\t\t\tx.loc[a,\"Accountancy\"] = js[\"Accountancy\"]\n",
    "\t\tif \"BusinessStudies\" in js:\n",
    "\t\t\tx.loc[a,\"BusinessStudies\"] = js[\"BusinessStudies\"]\n",
    "\t\tif \"Economics\" in js:\n",
    "\t\t\tx.loc[a,\"Economics\"] = js[\"Economics\"]\n",
    "\t\tif \"ComputerScience\" in js:\n",
    "\t\t\tx.loc[a,\"ComputerScience\"] = js[\"ComputerScience\"]\n",
    "\n",
    "\t\ty.loc[a,\"Mathematics\"] = js[\"Mathematics\"]\n",
    "\t\ta=a+1\n",
    "\n",
    "\t\t#if a>5:\n",
    "\t\t#\tbreak\n",
    "\tx=x.fillna(0)\n",
    "\ty=y.fillna(0)\n",
    "\tprint n\n",
    "\tprint a\n",
    "\tprint \"All train data Loaded !!!\" if (int(n)+1)==a else  \"Partial train data loaded !!!\"\n",
    "\n",
    "\tinfile = open(testfile, 'r')\n",
    "\ttn = infile.readline()\n",
    "\t#index = range(int(n))\n",
    "\tcols=[\"Physics\", \"Chemistry\",\"Biology\",\"English\", \"PhysicalEducation\", \"Accountancy\", \"BusinessStudies\",\"Economics\",\"ComputerScience\"]\n",
    "\ttx= pd.DataFrame(columns=cols)\n",
    "\tty= pd.DataFrame(columns=ycols)\n",
    "\t\n",
    "\ta = 0\n",
    "\tfor line in infile:\n",
    "\t\t#print line\n",
    "\t\tjs=json.loads(line)\n",
    "\t\t#print js\n",
    "\t\tif \"Physics\" in js:\n",
    "\t\t\ttx.loc[a,\"Physics\"] = js[\"Physics\"]\n",
    "\t\tif \"Chemistry\" in js:\n",
    "\t\t\ttx.loc[a,\"Chemistry\"] = js[\"Chemistry\"]\n",
    "\t\tif \"Biology\" in js:\n",
    "\t\t\ttx.loc[a,\"Biology\"] = js[\"Biology\"]\n",
    "\t\ttx.loc[a,\"English\"] = js[\"English\"]\n",
    "\t\t\n",
    "\t\tif \"PhysicalEducation\" in js:\n",
    "\t\t\ttx.loc[a,\"PhysicalEducation\"] = js[\"PhysicalEducation\"]\n",
    "\t\tif \"Accountancy\" in js:\n",
    "\t\t\ttx.loc[a,\"Accountancy\"] = js[\"Accountancy\"]\n",
    "\t\tif \"BusinessStudies\" in js:\n",
    "\t\t\ttx.loc[a,\"BusinessStudies\"] = js[\"BusinessStudies\"]\n",
    "\t\tif \"Economics\" in js:\n",
    "\t\t\ttx.loc[a,\"Economics\"] = js[\"Economics\"]\n",
    "\t\tif \"ComputerScience\" in js:\n",
    "\t\t\ttx.loc[a,\"ComputerScience\"] = js[\"ComputerScience\"]\t\t\n",
    "\t\t#print tx.loc[a,\"English\"]\n",
    "\t\ta=a+1\n",
    "\n",
    "\t\t#if a>5:\n",
    "\t\t#\tbreak\n",
    "\ttx=tx.fillna(0)\n",
    "\tprint tn\n",
    "\tprint a\n",
    "\tprint \"All test data Loaded !!!\" if (int(tn)+1)==a else  \"Partial test data loaded !!!\"\n",
    "\tty = pd.read_csv(testfiley, names=ycols)\n",
    "\t#ty\n",
    "\n",
    "\treturn x,y,tx,ty,n\n"
   ]
  },
  {
   "cell_type": "code",
   "execution_count": 6,
   "metadata": {
    "collapsed": false,
    "deletable": true,
    "editable": true,
    "scrolled": false
   },
   "outputs": [
    {
     "name": "stdout",
     "output_type": "stream",
     "text": [
      "adasd\n",
      "79465\n",
      "\n",
      "79465\n",
      "Partial train data loaded !!!\n",
      "69530\n",
      "\n",
      "69530\n",
      "Partial test data loaded !!!\n"
     ]
    }
   ],
   "source": [
    "trainx, trainy, testx, testy, n= getData('training-and-test/training.json', 'training-and-test/sample-test.in.json', 'training-and-test/sample-test.out.json')\n"
   ]
  },
  {
   "cell_type": "code",
   "execution_count": 7,
   "metadata": {
    "collapsed": false,
    "deletable": true,
    "editable": true
   },
   "outputs": [
    {
     "name": "stdout",
     "output_type": "stream",
     "text": [
      "79465\n",
      "79465\n",
      "69530\n",
      "69530\n"
     ]
    }
   ],
   "source": [
    "print len(trainx)\n",
    "print len(trainy)\n",
    "print len(testx)\n",
    "print len(testy)"
   ]
  },
  {
   "cell_type": "code",
   "execution_count": 13,
   "metadata": {
    "collapsed": false,
    "deletable": true,
    "editable": true
   },
   "outputs": [
    {
     "name": "stderr",
     "output_type": "stream",
     "text": [
      "/System/Library/Frameworks/Python.framework/Versions/2.7/Extras/lib/python/scipy/sparse/compressed.py:130: VisibleDeprecationWarning: `rank` is deprecated; use the `ndim` attribute or function instead. To find the rank of a matrix see `numpy.linalg.matrix_rank`.\n",
      "  if np.rank(self.data) != 1 or np.rank(self.indices) != 1 or np.rank(self.indptr) != 1:\n",
      "/System/Library/Frameworks/Python.framework/Versions/2.7/Extras/lib/python/scipy/sparse/coo.py:200: VisibleDeprecationWarning: `rank` is deprecated; use the `ndim` attribute or function instead. To find the rank of a matrix see `numpy.linalg.matrix_rank`.\n",
      "  if np.rank(self.data) != 1 or np.rank(self.row) != 1 or np.rank(self.col) != 1:\n"
     ]
    },
    {
     "name": "stdout",
     "output_type": "stream",
     "text": [
      "Accuracy Score : \t 13221\n"
     ]
    }
   ],
   "source": [
    "import json\n",
    "import pandas as pd\n",
    "import numpy as np\n",
    "from sklearn.utils import column_or_1d\n",
    "from sklearn.metrics import accuracy_score\n",
    "from sklearn.pipeline import Pipeline\n",
    "import numpy as np\n",
    "from sklearn.multiclass import OneVsRestClassifier\n",
    "from sklearn.naive_bayes import MultinomialNB\n",
    "from sklearn import preprocessing\n",
    "from sklearn.preprocessing import MinMaxScaler\n",
    "\n",
    "\n",
    "cols=[\"Physics\", \"Chemistry\",\"Biology\",\"English\", \"PhysicalEducation\", \"Accountancy\", \"BusinessStudies\",\"Economics\",\"ComputerScience\"]\n",
    "ycols=[\"Mathematics\"]\n",
    "\n",
    "X = trainx \n",
    "y = trainy \n",
    "\n",
    "\n",
    "clf = MultinomialNB(alpha=5.1, class_prior=None, fit_prior=True)\n",
    "clf=OneVsRestClassifier(clf)\n",
    "#min_max_scaler = preprocessing.MinMaxScaler()\n",
    "clf.fit(X[cols].values, y[ycols].values)\n",
    "'''\n",
    "X_train_minmax = min_max_scaler.fit_transform(X[cols].values)\n",
    "print 'Before Normalizing: \\t\\n',X[cols].values\n",
    "print 'After Normalizing: \\t\\n',X_train_minmax\n",
    "clf.fit(X_train_minmax, y[ycols].values)\n",
    "X_test_minmax = min_max_scaler.transform(testx[cols].values)\n",
    "p=pipeline.predict(X_test_minmax)\n",
    "p\n",
    "'''\n",
    "p=clf.predict(testx[cols].values)\n",
    "print 'Accuracy Score : \\t '+ str(accuracy_score(testy[ycols].values, p, normalize=False))"
   ]
  },
  {
   "cell_type": "code",
   "execution_count": 14,
   "metadata": {
    "collapsed": false,
    "deletable": true,
    "editable": true
   },
   "outputs": [
    {
     "name": "stdout",
     "output_type": "stream",
     "text": [
      "[[6]\n",
      " [3]\n",
      " [2]\n",
      " ..., \n",
      " [5]\n",
      " [1]\n",
      " [2]]\n",
      "[5 2 8 ..., 8 3 1]\n"
     ]
    }
   ],
   "source": [
    "print y[ycols].values\n",
    "print p"
   ]
  },
  {
   "cell_type": "code",
   "execution_count": 16,
   "metadata": {
    "collapsed": false,
    "deletable": true,
    "editable": true
   },
   "outputs": [],
   "source": [
    "testx[\"pred\"]=p\n",
    "testx[\"actual\"]=testy\n",
    "act=testx[\"actual\"]"
   ]
  },
  {
   "cell_type": "code",
   "execution_count": 17,
   "metadata": {
    "collapsed": false,
    "deletable": true,
    "editable": true
   },
   "outputs": [
    {
     "data": {
      "text/plain": [
       "69530"
      ]
     },
     "execution_count": 17,
     "metadata": {},
     "output_type": "execute_result"
    }
   ],
   "source": [
    "len(testx[\"pred\"])"
   ]
  },
  {
   "cell_type": "code",
   "execution_count": 18,
   "metadata": {
    "collapsed": false,
    "deletable": true,
    "editable": true
   },
   "outputs": [
    {
     "name": "stdout",
     "output_type": "stream",
     "text": [
      "works\n"
     ]
    }
   ],
   "source": [
    "#testx.ix([\"pred\",\"actual\"]).ix[:, 1]\n",
    "if abs(testx.iat[0, -2] - 4) ==1:\n",
    "    print \"works\"\n",
    "else:\n",
    "    print \"doesnt\""
   ]
  },
  {
   "cell_type": "code",
   "execution_count": 19,
   "metadata": {
    "collapsed": false,
    "deletable": true,
    "editable": true
   },
   "outputs": [
    {
     "data": {
      "text/plain": [
       "5"
      ]
     },
     "execution_count": 19,
     "metadata": {},
     "output_type": "execute_result"
    }
   ],
   "source": [
    "testx.iat[0, -2]"
   ]
  },
  {
   "cell_type": "code",
   "execution_count": 20,
   "metadata": {
    "collapsed": false,
    "deletable": true,
    "editable": true
   },
   "outputs": [
    {
     "data": {
      "text/html": [
       "<div>\n",
       "<table border=\"1\" class=\"dataframe\">\n",
       "  <thead>\n",
       "    <tr style=\"text-align: right;\">\n",
       "      <th></th>\n",
       "      <th>Physics</th>\n",
       "      <th>Chemistry</th>\n",
       "      <th>Biology</th>\n",
       "      <th>English</th>\n",
       "      <th>PhysicalEducation</th>\n",
       "      <th>Accountancy</th>\n",
       "      <th>BusinessStudies</th>\n",
       "      <th>Economics</th>\n",
       "      <th>ComputerScience</th>\n",
       "      <th>pred</th>\n",
       "      <th>actual</th>\n",
       "    </tr>\n",
       "  </thead>\n",
       "  <tbody>\n",
       "    <tr>\n",
       "      <th>0</th>\n",
       "      <td>2</td>\n",
       "      <td>2</td>\n",
       "      <td>1</td>\n",
       "      <td>1</td>\n",
       "      <td>0</td>\n",
       "      <td>0</td>\n",
       "      <td>0</td>\n",
       "      <td>0</td>\n",
       "      <td>0</td>\n",
       "      <td>5</td>\n",
       "      <td>2</td>\n",
       "    </tr>\n",
       "    <tr>\n",
       "      <th>1</th>\n",
       "      <td>3</td>\n",
       "      <td>3</td>\n",
       "      <td>0</td>\n",
       "      <td>4</td>\n",
       "      <td>0</td>\n",
       "      <td>0</td>\n",
       "      <td>0</td>\n",
       "      <td>0</td>\n",
       "      <td>4</td>\n",
       "      <td>2</td>\n",
       "      <td>4</td>\n",
       "    </tr>\n",
       "    <tr>\n",
       "      <th>2</th>\n",
       "      <td>0</td>\n",
       "      <td>0</td>\n",
       "      <td>0</td>\n",
       "      <td>1</td>\n",
       "      <td>0</td>\n",
       "      <td>1</td>\n",
       "      <td>1</td>\n",
       "      <td>3</td>\n",
       "      <td>0</td>\n",
       "      <td>8</td>\n",
       "      <td>1</td>\n",
       "    </tr>\n",
       "    <tr>\n",
       "      <th>3</th>\n",
       "      <td>2</td>\n",
       "      <td>2</td>\n",
       "      <td>0</td>\n",
       "      <td>1</td>\n",
       "      <td>0</td>\n",
       "      <td>0</td>\n",
       "      <td>0</td>\n",
       "      <td>0</td>\n",
       "      <td>2</td>\n",
       "      <td>3</td>\n",
       "      <td>2</td>\n",
       "    </tr>\n",
       "    <tr>\n",
       "      <th>4</th>\n",
       "      <td>0</td>\n",
       "      <td>0</td>\n",
       "      <td>0</td>\n",
       "      <td>2</td>\n",
       "      <td>0</td>\n",
       "      <td>5</td>\n",
       "      <td>4</td>\n",
       "      <td>3</td>\n",
       "      <td>0</td>\n",
       "      <td>8</td>\n",
       "      <td>8</td>\n",
       "    </tr>\n",
       "    <tr>\n",
       "      <th>5</th>\n",
       "      <td>3</td>\n",
       "      <td>6</td>\n",
       "      <td>0</td>\n",
       "      <td>3</td>\n",
       "      <td>0</td>\n",
       "      <td>0</td>\n",
       "      <td>0</td>\n",
       "      <td>0</td>\n",
       "      <td>5</td>\n",
       "      <td>3</td>\n",
       "      <td>5</td>\n",
       "    </tr>\n",
       "    <tr>\n",
       "      <th>6</th>\n",
       "      <td>8</td>\n",
       "      <td>5</td>\n",
       "      <td>0</td>\n",
       "      <td>8</td>\n",
       "      <td>1</td>\n",
       "      <td>0</td>\n",
       "      <td>0</td>\n",
       "      <td>0</td>\n",
       "      <td>0</td>\n",
       "      <td>3</td>\n",
       "      <td>8</td>\n",
       "    </tr>\n",
       "    <tr>\n",
       "      <th>7</th>\n",
       "      <td>0</td>\n",
       "      <td>0</td>\n",
       "      <td>0</td>\n",
       "      <td>6</td>\n",
       "      <td>0</td>\n",
       "      <td>3</td>\n",
       "      <td>3</td>\n",
       "      <td>2</td>\n",
       "      <td>0</td>\n",
       "      <td>8</td>\n",
       "      <td>4</td>\n",
       "    </tr>\n",
       "    <tr>\n",
       "      <th>8</th>\n",
       "      <td>3</td>\n",
       "      <td>2</td>\n",
       "      <td>1</td>\n",
       "      <td>3</td>\n",
       "      <td>0</td>\n",
       "      <td>0</td>\n",
       "      <td>0</td>\n",
       "      <td>0</td>\n",
       "      <td>0</td>\n",
       "      <td>3</td>\n",
       "      <td>5</td>\n",
       "    </tr>\n",
       "    <tr>\n",
       "      <th>9</th>\n",
       "      <td>3</td>\n",
       "      <td>2</td>\n",
       "      <td>0</td>\n",
       "      <td>4</td>\n",
       "      <td>2</td>\n",
       "      <td>0</td>\n",
       "      <td>0</td>\n",
       "      <td>0</td>\n",
       "      <td>0</td>\n",
       "      <td>1</td>\n",
       "      <td>1</td>\n",
       "    </tr>\n",
       "    <tr>\n",
       "      <th>10</th>\n",
       "      <td>1</td>\n",
       "      <td>1</td>\n",
       "      <td>0</td>\n",
       "      <td>2</td>\n",
       "      <td>0</td>\n",
       "      <td>0</td>\n",
       "      <td>0</td>\n",
       "      <td>0</td>\n",
       "      <td>1</td>\n",
       "      <td>1</td>\n",
       "      <td>3</td>\n",
       "    </tr>\n",
       "    <tr>\n",
       "      <th>11</th>\n",
       "      <td>1</td>\n",
       "      <td>1</td>\n",
       "      <td>4</td>\n",
       "      <td>1</td>\n",
       "      <td>0</td>\n",
       "      <td>0</td>\n",
       "      <td>0</td>\n",
       "      <td>0</td>\n",
       "      <td>0</td>\n",
       "      <td>5</td>\n",
       "      <td>1</td>\n",
       "    </tr>\n",
       "    <tr>\n",
       "      <th>12</th>\n",
       "      <td>1</td>\n",
       "      <td>2</td>\n",
       "      <td>0</td>\n",
       "      <td>1</td>\n",
       "      <td>1</td>\n",
       "      <td>0</td>\n",
       "      <td>0</td>\n",
       "      <td>0</td>\n",
       "      <td>0</td>\n",
       "      <td>1</td>\n",
       "      <td>1</td>\n",
       "    </tr>\n",
       "    <tr>\n",
       "      <th>13</th>\n",
       "      <td>4</td>\n",
       "      <td>4</td>\n",
       "      <td>2</td>\n",
       "      <td>3</td>\n",
       "      <td>0</td>\n",
       "      <td>0</td>\n",
       "      <td>0</td>\n",
       "      <td>0</td>\n",
       "      <td>0</td>\n",
       "      <td>5</td>\n",
       "      <td>3</td>\n",
       "    </tr>\n",
       "  </tbody>\n",
       "</table>\n",
       "</div>"
      ],
      "text/plain": [
       "    Physics  Chemistry  Biology  English  PhysicalEducation  Accountancy  \\\n",
       "0         2          2        1        1                  0            0   \n",
       "1         3          3        0        4                  0            0   \n",
       "2         0          0        0        1                  0            1   \n",
       "3         2          2        0        1                  0            0   \n",
       "4         0          0        0        2                  0            5   \n",
       "5         3          6        0        3                  0            0   \n",
       "6         8          5        0        8                  1            0   \n",
       "7         0          0        0        6                  0            3   \n",
       "8         3          2        1        3                  0            0   \n",
       "9         3          2        0        4                  2            0   \n",
       "10        1          1        0        2                  0            0   \n",
       "11        1          1        4        1                  0            0   \n",
       "12        1          2        0        1                  1            0   \n",
       "13        4          4        2        3                  0            0   \n",
       "\n",
       "    BusinessStudies  Economics  ComputerScience  pred  actual  \n",
       "0                 0          0                0     5       2  \n",
       "1                 0          0                4     2       4  \n",
       "2                 1          3                0     8       1  \n",
       "3                 0          0                2     3       2  \n",
       "4                 4          3                0     8       8  \n",
       "5                 0          0                5     3       5  \n",
       "6                 0          0                0     3       8  \n",
       "7                 3          2                0     8       4  \n",
       "8                 0          0                0     3       5  \n",
       "9                 0          0                0     1       1  \n",
       "10                0          0                1     1       3  \n",
       "11                0          0                0     5       1  \n",
       "12                0          0                0     1       1  \n",
       "13                0          0                0     5       3  "
      ]
     },
     "execution_count": 20,
     "metadata": {},
     "output_type": "execute_result"
    }
   ],
   "source": [
    "testx[0:14]"
   ]
  },
  {
   "cell_type": "code",
   "execution_count": 21,
   "metadata": {
    "collapsed": false,
    "deletable": true,
    "editable": true
   },
   "outputs": [
    {
     "data": {
      "text/plain": [
       "69530"
      ]
     },
     "execution_count": 21,
     "metadata": {},
     "output_type": "execute_result"
    }
   ],
   "source": [
    "len(testx[\"actual\"])"
   ]
  },
  {
   "cell_type": "code",
   "execution_count": 22,
   "metadata": {
    "collapsed": false,
    "deletable": true,
    "editable": true
   },
   "outputs": [
    {
     "data": {
      "text/plain": [
       "69530"
      ]
     },
     "execution_count": 22,
     "metadata": {},
     "output_type": "execute_result"
    }
   ],
   "source": [
    "len(p)"
   ]
  },
  {
   "cell_type": "code",
   "execution_count": 23,
   "metadata": {
    "collapsed": false,
    "deletable": true,
    "editable": true
   },
   "outputs": [],
   "source": [
    "testx.to_csv('training-and-test/pred.csv')"
   ]
  },
  {
   "cell_type": "code",
   "execution_count": 24,
   "metadata": {
    "collapsed": false,
    "deletable": true,
    "editable": true
   },
   "outputs": [
    {
     "name": "stdout",
     "output_type": "stream",
     "text": [
      "31542\n"
     ]
    }
   ],
   "source": [
    "sum=0\n",
    "for i in range(len(testy)):\n",
    "\tif abs(testx.iat[i, -2] - testx.iat[i, -1]) <=1:\n",
    "\t\tsum = sum+1\n",
    "print sum"
   ]
  },
  {
   "cell_type": "code",
   "execution_count": 25,
   "metadata": {
    "collapsed": false,
    "deletable": true,
    "editable": true
   },
   "outputs": [
    {
     "name": "stdout",
     "output_type": "stream",
     "text": [
      "Accuracy :\t45.0  %\n"
     ]
    }
   ],
   "source": [
    "print 'Accuracy :\\t', float(100*sum/len(testy)), ' %'"
   ]
  },
  {
   "cell_type": "code",
   "execution_count": null,
   "metadata": {
    "collapsed": true
   },
   "outputs": [],
   "source": []
  }
 ],
 "metadata": {
  "kernelspec": {
   "display_name": "Python 2",
   "language": "python",
   "name": "python2"
  },
  "language_info": {
   "codemirror_mode": {
    "name": "ipython",
    "version": 2
   },
   "file_extension": ".py",
   "mimetype": "text/x-python",
   "name": "python",
   "nbconvert_exporter": "python",
   "pygments_lexer": "ipython2",
   "version": "2.7.12"
  }
 },
 "nbformat": 4,
 "nbformat_minor": 2
}
